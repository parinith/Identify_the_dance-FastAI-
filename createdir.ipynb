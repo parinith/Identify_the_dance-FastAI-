{
 "cells": [
  {
   "cell_type": "code",
   "execution_count": 5,
   "metadata": {},
   "outputs": [
    {
     "name": "stdout",
     "output_type": "stream",
     "text": [
      "Directory '['bharatanatyam', 'kathak', 'kathakali', 'kuchipudi', 'manipuri', 'mohiniyattam', 'odissi', 'sattriya']' created\n",
      "Directory '['bharatanatyam', 'kathak', 'kathakali', 'kuchipudi', 'manipuri', 'mohiniyattam', 'odissi', 'sattriya']' created\n",
      "Directory '['bharatanatyam', 'kathak', 'kathakali', 'kuchipudi', 'manipuri', 'mohiniyattam', 'odissi', 'sattriya']' created\n",
      "Directory '['bharatanatyam', 'kathak', 'kathakali', 'kuchipudi', 'manipuri', 'mohiniyattam', 'odissi', 'sattriya']' created\n",
      "Directory '['bharatanatyam', 'kathak', 'kathakali', 'kuchipudi', 'manipuri', 'mohiniyattam', 'odissi', 'sattriya']' created\n",
      "Directory '['bharatanatyam', 'kathak', 'kathakali', 'kuchipudi', 'manipuri', 'mohiniyattam', 'odissi', 'sattriya']' created\n",
      "Directory '['bharatanatyam', 'kathak', 'kathakali', 'kuchipudi', 'manipuri', 'mohiniyattam', 'odissi', 'sattriya']' created\n",
      "Directory '['bharatanatyam', 'kathak', 'kathakali', 'kuchipudi', 'manipuri', 'mohiniyattam', 'odissi', 'sattriya']' created\n"
     ]
    }
   ],
   "source": [
    "import os \n",
    "   \n",
    "directory = ['bharatanatyam','kathak','kathakali','kuchipudi','manipuri','mohiniyattam','odissi', 'sattriya']\n",
    "  \n",
    "# Parent Directory path \n",
    "parent_dir = \"C:/Users/Parinithi/Desktop/Identifydance/dataset/Data/\"\n",
    "  \n",
    "# Path \n",
    "for i in range(0,len(directory)):\n",
    "  path = os.path.join(parent_dir, directory[i]) \n",
    "  os.mkdir(path)\n",
    "  print(\"Directory '% s' created\" % directory) \n",
    "   \n"
   ]
  }
 ],
 "metadata": {
  "kernelspec": {
   "display_name": "Python 3",
   "language": "python",
   "name": "python3"
  },
  "language_info": {
   "codemirror_mode": {
    "name": "ipython",
    "version": 3
   },
   "file_extension": ".py",
   "mimetype": "text/x-python",
   "name": "python",
   "nbconvert_exporter": "python",
   "pygments_lexer": "ipython3",
   "version": "3.7.5rc1"
  }
 },
 "nbformat": 4,
 "nbformat_minor": 4
}
